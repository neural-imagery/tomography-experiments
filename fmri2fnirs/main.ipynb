{
 "cells": [
  {
   "cell_type": "markdown",
   "metadata": {},
   "source": [
    "In this notebook, we develop a pipeline for turning fMRI data into pseudo-fNIRS data, and we apply it to the NSD."
   ]
  },
  {
   "cell_type": "code",
   "execution_count": 1,
   "metadata": {},
   "outputs": [],
   "source": [
    "import os\n",
    "import numpy as np\n",
    "import nibabel as nib\n",
    "import matplotlib.pyplot as plt"
   ]
  },
  {
   "cell_type": "code",
   "execution_count": 2,
   "metadata": {},
   "outputs": [],
   "source": [
    "# specify subject data\n",
    "subjectID  = '01'\n",
    "sessionID  = '21'\n",
    "runID      = '01'\n",
    "\n",
    "# create directories to store data\n",
    "anat_path = 'data/sub' + subjectID + '/anat/'\n",
    "run_path  = 'data/sub' + subjectID + '/fmri/sess' + sessionID + '/run' + runID + '/'\n",
    "if not os.path.isdir(anat_path): os.makedirs(anat_path)\n",
    "if not os.path.isdir(run_path):  os.makedirs(run_path)"
   ]
  },
  {
   "cell_type": "markdown",
   "metadata": {},
   "source": [
    "# 1. Create segmented mask"
   ]
  },
  {
   "cell_type": "markdown",
   "metadata": {},
   "source": [
    "### Install FSL library"
   ]
  },
  {
   "cell_type": "code",
   "execution_count": 22,
   "metadata": {},
   "outputs": [],
   "source": [
    "## uncomment if library not installed\n",
    "# !sudo apt -qq install file\n",
    "# !wget https://fsl.fmrib.ox.ac.uk/fsldownloads/fslinstaller.py\n",
    "# !python3 fslinstaller.py\n",
    "\n",
    "from pathlib import Path\n",
    "fslpath = Path(os.getcwd()).parents[1].as_posix()+'/fsl'\n",
    "os.environ[\"FSLDIR\"] = fslpath\n",
    "os.environ[\"FSLOUTPUTTYPE\"] = \"NIFTI_GZ\"\n",
    "os.environ[\"PATH\"] += os.pathsep + os.path.join(fslpath, 'bin')\n",
    "!. ${FSLDIR}/etc/fslconf/fsl.sh"
   ]
  },
  {
   "cell_type": "markdown",
   "metadata": {},
   "source": [
    "### Retrieve subject data"
   ]
  },
  {
   "cell_type": "code",
   "execution_count": 32,
   "metadata": {},
   "outputs": [],
   "source": [
    "resolution = '1pt0'\n",
    "\n",
    "# specify filenames\n",
    "anat_url = f\"https://natural-scenes-dataset.s3.amazonaws.com/nsddata/ppdata/subj{subjectID}/anat/\"\n",
    "head_mask_filename = f\"brainmask_{resolution}.nii.gz\"\n",
    "t1_filename = f\"T1_{resolution}_masked.nii.gz\"\n",
    "\n",
    "# pull structural data from NSD\n",
    "if not os.path.isfile(anat_path+head_mask_filename): \n",
    "    !wget -P $anat_path $anat_url$head_mask_filename \n",
    "if not os.path.isfile(anat_path+t1_filename): \n",
    "    !wget -P $anat_path $anat_url$t1_filename\n",
    "\n",
    "# generate brain masks (~5s)\n",
    "t1_brain_filename = f\"T1_{resolution}_masked_brain\"\n",
    "if not os.path.isfile(anat_path+t1_brain_filename+'.nii.gz'):\n",
    "    !bet $anat_path$t1_filename $anat_path$t1_brain_filename -m\n",
    "\n",
    "# segment brain tissue into csf, grey and white matter (~5m8s)\n",
    "if not os.path.isfile(anat_path+t1_brain_filename+'_seg.nii.gz'):\n",
    "    !fast $anat_path$t1_brain_filename"
   ]
  },
  {
   "cell_type": "code",
   "execution_count": null,
   "metadata": {},
   "outputs": [],
   "source": [
    "# specify filenames\n",
    "fmri_path = f\"https://natural-scenes-dataset.s3.amazonaws.com/nsddata_rawdata/sub-{subjectID}/ses-nsd{sessionID}/func/\"\n",
    "fmri_file = f\"sub-{subjectID}_ses-nsd{sessionID}_task-nsdcore_run-{runID}_bold.nii.gz\"\n",
    "resting_state_path = f\"https://natural-scenes-dataset.s3.amazonaws.com/nsddata_rawdata/sub-{subjectID}/ses-nsd{sessionID}/func/\"\n",
    "resting_state_file = f\"sub-{subjectID}_ses-nsd{sessionID}_task-rest_run-{1}_bold.nii.gz\"\n",
    "\n",
    "# pull functional data from NSD\n",
    "!wget $fmri_path$fmri_file $resting_state_path$resting_state_file"
   ]
  }
 ],
 "metadata": {
  "kernelspec": {
   "display_name": "Python 3",
   "language": "python",
   "name": "python3"
  },
  "language_info": {
   "codemirror_mode": {
    "name": "ipython",
    "version": 3
   },
   "file_extension": ".py",
   "mimetype": "text/x-python",
   "name": "python",
   "nbconvert_exporter": "python",
   "pygments_lexer": "ipython3",
   "version": "3.9.2"
  },
  "orig_nbformat": 4
 },
 "nbformat": 4,
 "nbformat_minor": 2
}
