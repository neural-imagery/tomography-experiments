{
 "cells": [
  {
   "cell_type": "markdown",
   "metadata": {},
   "source": [
    "# fMRI to fNIRS"
   ]
  },
  {
   "cell_type": "markdown",
   "metadata": {},
   "source": [
    "In this notebook, we develop a pipeline for turning fMRI data into pseudo-fNIRS data, and we apply it to the NSD."
   ]
  },
  {
   "cell_type": "code",
   "execution_count": 22,
   "metadata": {},
   "outputs": [],
   "source": [
    "import os\n",
    "import numpy as np\n",
    "import nibabel as nib\n",
    "import matplotlib.pyplot as plt"
   ]
  },
  {
   "cell_type": "code",
   "execution_count": 28,
   "metadata": {},
   "outputs": [],
   "source": [
    "# specify subject data\n",
    "subjectID  = '01'\n",
    "sessionID  = '21'\n",
    "runID      = '01'\n",
    "\n",
    "# create directories to store data\n",
    "anat_path = 'data/sub' + subjectID + '/anat/'\n",
    "run_path  = 'data/sub' + subjectID + '/func/fmri/sess' + sessionID + '/run' + runID + '/'\n",
    "if not os.path.isdir(anat_path): os.makedirs(anat_path)\n",
    "if not os.path.isdir(run_path):  os.makedirs(run_path)"
   ]
  },
  {
   "cell_type": "markdown",
   "metadata": {},
   "source": [
    "## 1. Create segmented mask"
   ]
  },
  {
   "cell_type": "markdown",
   "metadata": {},
   "source": [
    "### Install FSL library"
   ]
  },
  {
   "cell_type": "code",
   "execution_count": 24,
   "metadata": {},
   "outputs": [],
   "source": [
    "## uncomment if library not installed\n",
    "# !sudo apt -qq install file\n",
    "# !wget https://fsl.fmrib.ox.ac.uk/fsldownloads/fslinstaller.py\n",
    "# !python3 fslinstaller.py\n",
    "\n",
    "from pathlib import Path\n",
    "fslpath = Path(os.getcwd()).parents[1].as_posix()+'/fsl'\n",
    "os.environ[\"FSLDIR\"] = fslpath\n",
    "os.environ[\"FSLOUTPUTTYPE\"] = \"NIFTI_GZ\"\n",
    "os.environ[\"PATH\"] += os.pathsep + os.path.join(fslpath, 'bin')\n",
    "!. ${FSLDIR}/etc/fslconf/fsl.sh"
   ]
  },
  {
   "cell_type": "markdown",
   "metadata": {},
   "source": [
    "### Retrieve subject data"
   ]
  },
  {
   "cell_type": "code",
   "execution_count": null,
   "metadata": {},
   "outputs": [],
   "source": [
    "resolution = '1pt0' # 1.0 (for retrieving data from NSD)\n",
    "\n",
    "# specify urls and filenames\n",
    "anat_url = f\"https://natural-scenes-dataset.s3.amazonaws.com/nsddata/ppdata/subj{subjectID}/anat/\"\n",
    "fmri_url = f\"https://natural-scenes-dataset.s3.amazonaws.com/nsddata_rawdata/sub-{subjectID}/ses-nsd{sessionID}/func/\"\n",
    "head_mask_filename = f\"brainmask_{resolution}.nii.gz\"\n",
    "t1_filename        = f\"T1_{resolution}_masked.nii.gz\"\n",
    "fmri_filename      = f\"sub-{subjectID}_ses-nsd{sessionID}_task-nsdcore_run-{runID}_bold.nii.gz\"\n",
    "resting_filename = f\"sub-{subjectID}_ses-nsd{sessionID}_task-rest_run-{1}_bold.nii.gz\"\n",
    "\n",
    "# pull structural data from NSD\n",
    "if not os.path.isfile(anat_path+head_mask_filename): \n",
    "    !wget -P $anat_path $anat_url$head_mask_filename \n",
    "if not os.path.isfile(anat_path+t1_filename): \n",
    "    !wget -P $anat_path $anat_url$t1_filename\n",
    "\n",
    "# generate brain masks (~5s)\n",
    "t1_brain_filename = f\"T1_{resolution}_masked_brain\"\n",
    "if not os.path.isfile(anat_path+t1_brain_filename+'.nii.gz'):\n",
    "    !bet $anat_path$t1_filename $anat_path$t1_brain_filename -m\n",
    "\n",
    "# segment brain tissue into csf, grey and white matter (~5m8s)\n",
    "if not os.path.isfile(anat_path+t1_brain_filename+'_seg.nii.gz'):\n",
    "    !fast $anat_path$t1_brain_filename\n",
    "\n",
    "# pull functional data from NSD\n",
    "if not os.path.isfile(run_path+fmri_filename): \n",
    "    !wget -P $run_path $fmri_url$fmri_filename\n",
    "if not os.path.isfile(run_path+resting_filename): \n",
    "    !wget -P $run_path $fmri_url$resting_filename"
   ]
  },
  {
   "cell_type": "markdown",
   "metadata": {},
   "source": [
    "### Create mask in `anat` space"
   ]
  },
  {
   "cell_type": "code",
   "execution_count": null,
   "metadata": {},
   "outputs": [],
   "source": [
    "# convert masks to numpy arrays\n",
    "head_mask_nib = nib.load(anat_path+head_mask_filename)\n",
    "brain_seg_nib = nib.load(anat_path+t1_brain_filename+\"_seg.nii.gz\")\n",
    "\n",
    "# create segmented model\n",
    "t1_head_seg = np.zeros(head_mask_nib.get_fdata().shape)\n",
    "t1_head_seg[head_mask_nib.get_fdata()==1] = 1\n",
    "t1_head_seg[brain_seg_nib.get_fdata()==1] = 2\n",
    "t1_head_seg[brain_seg_nib.get_fdata()==2] = 3\n",
    "t1_head_seg[brain_seg_nib.get_fdata()==3] = 4\n",
    "t1_head_seg = nib.Nifti1Image(t1_head_seg, brain_seg_nib.affine, brain_seg_nib.header)\n",
    "\n",
    "# save anat mask\n",
    "t1_head_seg_filename = f'T1_{resolution}_masked_'+'head_seg.nii.gz'\n",
    "if not os.path.isfile(anat_path+t1_head_seg_filename): nib.save(t1_head_seg, anat_path+t1_head_seg_filename)\n",
    "\n",
    "# plot anat mask\n",
    "sidx = t1_head_seg.shape[2]//2\n",
    "print(t1_head_seg.shape)\n",
    "plt.imshow(t1_head_seg.get_fdata()[:,:,sidx]); plt.colorbar()\n",
    "plt.title('Head mask in anat space'); plt.show()"
   ]
  },
  {
   "cell_type": "markdown",
   "metadata": {},
   "source": [
    "### Create mask in `func` space"
   ]
  },
  {
   "cell_type": "code",
   "execution_count": 30,
   "metadata": {},
   "outputs": [],
   "source": [
    "# register segmented head model with fmri data\n",
    "fmri_head_seg_filename = f'sub-{subjectID}_ses-nsd{sessionID}_task-nsdcore_run-{runID}_bold_head_seg.nii.gz'\n",
    "if not os.path.isfile(run_path+fmri_head_seg_filename):\n",
    "    !flirt -in $anat_path$t1_head_seg_filename -ref $run_path$fmri_filename -out $run_path$fmri_head_seg_filename\n",
    "\n",
    "# save func mask\n",
    "seg2fmri = nib.load(run_path+fmri_head_seg_filename)\n",
    "\n",
    "# plot func mask\n",
    "\n",
    "\n",
    "# seg2fmri = np.round(nib.load(\"seg2fmri.nii.gz\").get_fdata()).astype('uint8')\n",
    "# fidx = seg2fmri.shape[2]//2\n",
    "# print(seg2fmri.shape)\n",
    "# plt.imshow(seg2fmri[:,:,fidx]); plt.colorbar()\n",
    "# plt.title('Head mask in functional space'); plt.show()"
   ]
  },
  {
   "cell_type": "markdown",
   "metadata": {},
   "source": [
    "## 2. Forward solve"
   ]
  },
  {
   "cell_type": "markdown",
   "metadata": {},
   "source": [
    "INPUT: 3D head mask is found in `data/subID/func/fmri/sessID/runID` \n",
    "\n",
    "OUTPUT: Measurement data in `data/subID/func/fnirs/sessID/runID`"
   ]
  },
  {
   "cell_type": "code",
   "execution_count": null,
   "metadata": {},
   "outputs": [],
   "source": [
    "# install libraries\n",
    "!pip install numpy pmcx jdata bjdata matplotlib"
   ]
  },
  {
   "cell_type": "code",
   "execution_count": null,
   "metadata": {},
   "outputs": [],
   "source": [
    "import pmcx\n",
    "pmcx.__version__   # print imported pmcx version number"
   ]
  },
  {
   "cell_type": "code",
   "execution_count": null,
   "metadata": {},
   "outputs": [],
   "source": [
    "pmcx.gpuinfo() # see gpu info"
   ]
  },
  {
   "cell_type": "code",
   "execution_count": 27,
   "metadata": {},
   "outputs": [],
   "source": [
    "def get_optode_locations(brain_seg: np.ndarray):\n",
    "    \"\"\"\n",
    "    Get optode locations from brain segmentation\n",
    "\n",
    "    Parameters\n",
    "    ----------\n",
    "    brain_seg : numpy array (3D)\n",
    "\n",
    "    Returns\n",
    "    -------\n",
    "    srcpositions : list of source positions\n",
    "    srcdirections : list of source directions\n",
    "    detpositions : list of detector positions\n",
    "    \"\"\"\n",
    "    srcpositions = [[30,30,0]] # source position\n",
    "    srcdirections = [[0,0,1]] # source direction\n",
    "    detpositions = [[25,25,0]] # detector position\n",
    "\n",
    "    return srcpositions, srcdirections, detpositions"
   ]
  },
  {
   "cell_type": "code",
   "execution_count": null,
   "metadata": {},
   "outputs": [],
   "source": [
    "import os\n",
    "import numpy as np\n",
    "import nibabel as nib\n",
    "import matplotlib.pyplot as plt"
   ]
  },
  {
   "cell_type": "code",
   "execution_count": null,
   "metadata": {},
   "outputs": [],
   "source": [
    "# todo: integrate steve's source detectors\n",
    "\n",
    "# generate a random volume of size 2 x Nx x Ny x Nz float32\n",
    "# each element should be a random number between 0.5 and 1\n",
    "vol = np.random.rand(2, 100, 100, 100).astype('float32') + 0.5\n",
    "\n",
    "srcpositions, srcdirections, detpositions = get_optode_locations(vol)\n",
    "\n",
    "n = 1.37 # index of refraction\n",
    "g = 0.9 # anisotropy factor\n",
    "\n",
    "cfg = {\n",
    "       'nphoton': 1000000,\n",
    "       'vol': vol,\n",
    "       'tstart':0,\n",
    "       'tend': 5e-9,\n",
    "       'tstep': 5e-9,\n",
    "       'srcpos': srcpositions[0],\n",
    "       'srcdir': srcdirections[0],\n",
    "       'prop': [[0,0,1,1],[0,0,g,n]]\n",
    "       }"
   ]
  },
  {
   "cell_type": "markdown",
   "metadata": {},
   "source": []
  }
 ],
 "metadata": {
  "kernelspec": {
   "display_name": "Python 3",
   "language": "python",
   "name": "python3"
  },
  "language_info": {
   "codemirror_mode": {
    "name": "ipython",
    "version": 3
   },
   "file_extension": ".py",
   "mimetype": "text/x-python",
   "name": "python",
   "nbconvert_exporter": "python",
   "pygments_lexer": "ipython3",
   "version": "3.9.2"
  },
  "orig_nbformat": 4
 },
 "nbformat": 4,
 "nbformat_minor": 2
}
