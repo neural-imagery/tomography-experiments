{
 "cells": [
  {
   "cell_type": "markdown",
   "metadata": {},
   "source": [
    "# 3D Tomography Experiments"
   ]
  },
  {
   "cell_type": "code",
   "execution_count": 3,
   "metadata": {},
   "outputs": [
    {
     "name": "stdout",
     "output_type": "stream",
     "text": [
      "The autoreload extension is already loaded. To reload it, use:\n",
      "  %reload_ext autoreload\n"
     ]
    }
   ],
   "source": [
    "%load_ext autoreload\n",
    "%autoreload 2"
   ]
  },
  {
   "cell_type": "code",
   "execution_count": 2,
   "metadata": {},
   "outputs": [],
   "source": [
    "import numpy as np\n",
    "import matplotlib.pyplot as plt\n",
    "import pmcx\n",
    "from utils import add_ball_to_array"
   ]
  },
  {
   "cell_type": "code",
   "execution_count": null,
   "metadata": {},
   "outputs": [],
   "source": []
  },
  {
   "cell_type": "code",
   "execution_count": null,
   "metadata": {},
   "outputs": [],
   "source": [
    "region = np.zeros((100, 100, 100))\n",
    "region = add_ball_to_array(region, (50, 50, 50), 10, 1)\n",
    "region = add_ball_to_array(region, (20, 20, 50), 5, 1)\n",
    "plt.imshow(region[:, :, 50])\n",
    "plt.show()"
   ]
  },
  {
   "cell_type": "markdown",
   "metadata": {},
   "source": [
    "## Junk"
   ]
  },
  {
   "cell_type": "code",
   "execution_count": null,
   "metadata": {},
   "outputs": [],
   "source": [
    "pmcx.gpuinfo()"
   ]
  },
  {
   "cell_type": "code",
   "execution_count": null,
   "metadata": {},
   "outputs": [],
   "source": []
  },
  {
   "cell_type": "code",
   "execution_count": 29,
   "metadata": {},
   "outputs": [
    {
     "name": "stdout",
     "output_type": "stream",
     "text": [
      "nphoton: 1e+06\n",
      "tstart: 0\n",
      "tstep: 5e-09\n",
      "tend: 5e-09\n",
      "issrcfrom0: 1\n",
      "srcpos: [0, 30, 0, 1]\n",
      "srcdir: [0, 0, 1, 0]\n",
      "issavedet: 0\n",
      "###############################################################################\n",
      "#                      Monte Carlo eXtreme (MCX) -- CUDA                      #\n",
      "#          Copyright (c) 2009-2023 Qianqian Fang <q.fang at neu.edu>          #\n",
      "#                https://mcx.space/  &  https://neurojson.org/                #\n",
      "#                                                                             #\n",
      "# Computational Optics & Translational Imaging (COTI) Lab- http://fanglab.org #\n",
      "#   Department of Bioengineering, Northeastern University, Boston, MA, USA    #\n",
      "###############################################################################\n",
      "#    The MCX Project is funded by the NIH/NIGMS under grant R01-GM114365      #\n",
      "###############################################################################\n",
      "#  Open-source codes and reusable scientific data are essential for research, #\n",
      "# MCX proudly developed human-readable JSON-based data formats for easy reuse,#\n",
      "#  Please consider using JSON (https://ndict_keys(['flux', 'stat'])\n",
      "eurojson.org/) for your research data #\n",
      "###############################################################################\n",
      "$Rev::53e268$ v2023  $Date::2023-09-05 00:11:31 -04$ by $Author::Qianqian Fang$\n",
      "###############################################################################\n",
      "- code name: [Fermi MCX] compiled by nvcc [9.2] for CUDA-arch [350] on [Sep  5 2023]\n",
      "- compiled with: RNG [xorshift128+] with Seed Length [4]\n",
      "\n",
      "GPU=1 (Tesla V100-SXM2-16GB) threadph=6 extra=16960 np=1000000 nthread=163840 maxgate=1 repetition=1\n",
      "initializing streams ...\tinit complete : 0 ms\n",
      "requesting 1024 bytes of shared memory\n",
      "launching MCX simulation for time window [0.00e+00ns 5.00e+00ns] ...\n",
      "simulation run# 1 ... \n",
      "kernel complete:  \t183 ms\n",
      "retrieving fields ... \ttransfer complete:\t183 ms\n",
      "normalizing raw data ...\tsource 1, normalization factor alpha=200.000000\n",
      "data normalization complete : 184 ms\n",
      "simulated 1000000 photons (1000000) with 163840 threads (repeat x1)\n",
      "MCX simulation speed: 6896.55 photon/ms\n",
      "total simulated energy: 1000000.00\tabsorbed: 36.72153%\n",
      "(loss due to initial specular reflection is excluded in the total)\n"
     ]
    }
   ],
   "source": [
    "# prop: (µa, µs, g, n)\n",
    "\n",
    "prop = np.array([\n",
    "    [0,0,1,1], # air\n",
    "    [0.0200,  9.0000,  0.8900,  1.3700]]) # gray matter\n",
    "cfg = {\n",
    "       'nphoton': 1000000,\n",
    "       'vol':np.ones([1,60,60],dtype='uint8'),\n",
    "       'tstart':0,\n",
    "       'tend':5e-9,\n",
    "       'tstep':5e-9,\n",
    "       'srcpos': [0,30,0],\n",
    "       'srcdir':[0,0,1],\n",
    "       'prop': prop,\n",
    "       # 'detpos': [[0,30,30, 2],[0,30,30,2], [0,30,0,2]],\n",
    "       'issavedet': 0,\n",
    "       'issrcfrom0': 1\n",
    "       }\n",
    "res = pmcx.mcxlab(cfg)\n"
   ]
  },
  {
   "cell_type": "code",
   "execution_count": null,
   "metadata": {},
   "outputs": [],
   "source": []
  },
  {
   "cell_type": "code",
   "execution_count": null,
   "metadata": {},
   "outputs": [],
   "source": []
  },
  {
   "cell_type": "code",
   "execution_count": null,
   "metadata": {},
   "outputs": [],
   "source": []
  },
  {
   "cell_type": "code",
   "execution_count": null,
   "metadata": {},
   "outputs": [],
   "source": []
  },
  {
   "cell_type": "code",
   "execution_count": 18,
   "metadata": {},
   "outputs": [
    {
     "data": {
      "text/plain": [
       "(1, 60, 60, 1)"
      ]
     },
     "execution_count": 18,
     "metadata": {},
     "output_type": "execute_result"
    }
   ],
   "source": [
    "res['flux'].shape"
   ]
  },
  {
   "cell_type": "code",
   "execution_count": 30,
   "metadata": {},
   "outputs": [
    {
     "data": {
      "image/png": "[encoded data removed]",
      "text/plain": [
       "<Figure size 640x480 with 2 Axes>"
      ]
     },
     "metadata": {},
     "output_type": "display_data"
    }
   ],
   "source": [
    "plt.imshow((res['flux'][0,:, :]))\n",
    "plt.colorbar()\n",
    "plt.show()"
   ]
  },
  {
   "cell_type": "code",
   "execution_count": null,
   "metadata": {},
   "outputs": [],
   "source": []
  },
  {
   "cell_type": "code",
   "execution_count": null,
   "metadata": {},
   "outputs": [],
   "source": []
  },
  {
   "cell_type": "code",
   "execution_count": null,
   "metadata": {},
   "outputs": [],
   "source": []
  },
  {
   "cell_type": "code",
   "execution_count": null,
   "metadata": {},
   "outputs": [],
   "source": []
  },
  {
   "cell_type": "code",
   "execution_count": null,
   "metadata": {},
   "outputs": [],
   "source": []
  },
  {
   "cell_type": "code",
   "execution_count": null,
   "metadata": {},
   "outputs": [],
   "source": []
  },
  {
   "cell_type": "code",
   "execution_count": null,
   "metadata": {},
   "outputs": [],
   "source": []
  },
  {
   "cell_type": "code",
   "execution_count": null,
   "metadata": {},
   "outputs": [],
   "source": []
  },
  {
   "cell_type": "code",
   "execution_count": 16,
   "metadata": {},
   "outputs": [
    {
     "ename": "KeyError",
     "evalue": "'detp'",
     "output_type": "error",
     "traceback": [
      "\u001b[0;31m---------------------------------------------------------------------------\u001b[0m",
      "\u001b[0;31mKeyError\u001b[0m                                  Traceback (most recent call last)",
      "\u001b[1;32m/home/thomasribeiro/tomography-experiments/3d/main.ipynb Cell 11\u001b[0m line \u001b[0;36m1\n\u001b[0;32m----> <a href='vscode-notebook-cell://ssh-remote%2B34.16.41.195/home/thomasribeiro/tomography-experiments/3d/main.ipynb#Y145sdnNjb2RlLXJlbW90ZQ%3D%3D?line=0'>1</a>\u001b[0m plt\u001b[39m.\u001b[39mhist(res[\u001b[39m'\u001b[39;49m\u001b[39mdetp\u001b[39;49m\u001b[39m'\u001b[39;49m][\u001b[39m'\u001b[39m\u001b[39mppath\u001b[39m\u001b[39m'\u001b[39m][:,\u001b[39m0\u001b[39m], bins\u001b[39m=\u001b[39m\u001b[39m100\u001b[39m, \u001b[39mrange\u001b[39m\u001b[39m=\u001b[39m[\u001b[39m0\u001b[39m,\u001b[39m200\u001b[39m]);\n",
      "\u001b[0;31mKeyError\u001b[0m: 'detp'"
     ]
    }
   ],
   "source": [
    "plt.hist(res['detp']['ppath'][:,0], bins=100, range=[0,200]);"
   ]
  },
  {
   "cell_type": "code",
   "execution_count": null,
   "metadata": {},
   "outputs": [],
   "source": []
  },
  {
   "cell_type": "code",
   "execution_count": null,
   "metadata": {},
   "outputs": [],
   "source": [
    "from pmcx import dettime\n",
    "arrival_times = dettime(res['detp'], prop=prop)"
   ]
  },
  {
   "cell_type": "code",
   "execution_count": 89,
   "metadata": {},
   "outputs": [
    {
     "data": {
      "text/plain": [
       "(1, 48155)"
      ]
     },
     "execution_count": 89,
     "metadata": {},
     "output_type": "execute_result"
    }
   ],
   "source": [
    "arrival_times.shape"
   ]
  },
  {
   "cell_type": "code",
   "execution_count": null,
   "metadata": {},
   "outputs": [],
   "source": [
    "plt.hist(arrival_times[0,:], bins=100, range=[0, 0.5e-9])\n",
    "plt.show()"
   ]
  },
  {
   "cell_type": "code",
   "execution_count": null,
   "metadata": {},
   "outputs": [],
   "source": [
    "import jdata as jd"
   ]
  },
  {
   "cell_type": "code",
   "execution_count": null,
   "metadata": {},
   "outputs": [],
   "source": [
    "shape=[]\n",
    "shape.append({'Grid':{'Tag':1, 'Size':[40,60,30]}})\n",
    "shape.append({'Sphere':{'Tag':2, 'O':[20,30,10], 'R':10}})\n",
    "\n",
    "cfg['shapes']=jd.show({'Shapes':shape}, {'string':True})"
   ]
  },
  {
   "cell_type": "code",
   "execution_count": null,
   "metadata": {},
   "outputs": [],
   "source": [
    "hist, bins = np.histogram(res['detp']['data'][0])\n",
    "print(\"Histogram values:\", hist)\n",
    "print(\"Bins:\", bins)"
   ]
  },
  {
   "cell_type": "code",
   "execution_count": null,
   "metadata": {},
   "outputs": [],
   "source": [
    "res['detp']['detid'].shape"
   ]
  },
  {
   "cell_type": "code",
   "execution_count": null,
   "metadata": {},
   "outputs": [],
   "source": [
    "res['detp']['data'].shape"
   ]
  },
  {
   "cell_type": "code",
   "execution_count": null,
   "metadata": {},
   "outputs": [],
   "source": [
    "np.sum(res['detp']['data'][0] - res['detp']['detid'])"
   ]
  },
  {
   "cell_type": "code",
   "execution_count": null,
   "metadata": {},
   "outputs": [],
   "source": [
    "plt.imshow(np.log10(res['flux'][30,:, :]))\n",
    "plt.show()"
   ]
  },
  {
   "cell_type": "code",
   "execution_count": null,
   "metadata": {},
   "outputs": [],
   "source": [
    "plt.imshow(np.log10(res['flux'][30,:, :]))\n",
    "plt.show()"
   ]
  },
  {
   "cell_type": "code",
   "execution_count": null,
   "metadata": {},
   "outputs": [],
   "source": [
    "def forward(volume, optical_properties, source_positions, source_directions, \n",
    "            detector_positions):\n",
    "    \"\"\"\n",
    "    Implements the forward monte carlo solver.\n",
    "    \"\"\"\n",
    "\n",
    "    config = {\n",
    "        'nphoton': 1000000,\n",
    "        'vol': volume,\n",
    "        'tstart': 0,\n",
    "        'tend': 1e-8,\n",
    "        'tstep': 1e-8,\n",
    "        'srcpos': source_positions,\n",
    "        'srcdir': source_directions,\n",
    "        'prop': optical_properties,\n",
    "        'detpos': detector_positions,\n",
    "        'replaydet':-1,\n",
    "        'issavedet': 1,\n",
    "        'issrcfrom0': 1,\n",
    "        'issaveseed': 1,\n",
    "        'unitinmm': 1.8,\n",
    "        'maxdetphoton': 1000000000\n",
    "    }\n",
    "\n",
    "    result = pmcx.run(config)\n",
    "    return result, config\n",
    "\n",
    "def compute_jacobian(forward_result, config):\n",
    "    \n",
    "    config['seed']       = forward_result['seeds']  # one must define config['seed'] using the returned seeds\n",
    "    config['detphotons'] = forward_result['detp']   # one must define config['detphotons'] using the returned detp data\n",
    "    config['outputtype'] = 'jacobian'               # tell mcx to output absorption (μ_a) Jacobian\n",
    "\n",
    "    result = pmcx.run(config)\n",
    "    return result, config"
   ]
  }
 ],
 "metadata": {
  "kernelspec": {
   "display_name": "tomography-experiments-ii9qT8Yt",
   "language": "python",
   "name": "python3"
  },
  "language_info": {
   "codemirror_mode": {
    "name": "ipython",
    "version": 3
   },
   "file_extension": ".py",
   "mimetype": "text/x-python",
   "name": "python",
   "nbconvert_exporter": "python",
   "pygments_lexer": "ipython3",
   "version": "3.9.18"
  }
 },
 "nbformat": 4,
 "nbformat_minor": 2
}
