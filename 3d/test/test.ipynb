{
 "cells": [
  {
   "cell_type": "code",
   "execution_count": 1,
   "metadata": {},
   "outputs": [],
   "source": [
    "%load_ext autoreload\n",
    "%autoreload 2\n",
    "\n",
    "import numpy as np\n",
    "import pmcx"
   ]
  },
  {
   "cell_type": "code",
   "execution_count": 21,
   "metadata": {},
   "outputs": [
    {
     "name": "stdout",
     "output_type": "stream",
     "text": [
      "nphoton: 2e+08\n",
      "tstart: 0\n",
      "tstep: 2e-10\n",
      "tend: 5e-09\n",
      "issrcfrom0: 1\n",
      "autopilot: 1\n",
      "srcpos: [30, 30, 0, 1]\n",
      "srcdir: [0, 0, 1, 0]\n",
      "issavedet: 1\n"
     ]
    },
    {
     "name": "stdout",
     "output_type": "stream",
     "text": [
      "issaveseed: 1\n",
      "###############################################################################\n",
      "#                      Monte Carlo eXtreme (MCX) -- CUDA                      #\n",
      "#          Copyright (c) 2009-2023 Qianqian Fang <q.fang at neu.edu>          #\n",
      "#                https://mcx.space/  &  https://neurojson.org/                #\n",
      "#                                                                             #\n",
      "# Computational Optics & Translational Imaging (COTI) Lab- http://fanglab.org #\n",
      "#   Department of Bioengineering, Northeastern University, Boston, MA, USA    #\n",
      "###############################################################################\n",
      "#    The MCX Project is funded by the NIH/NIGMS under grant R01-GM114365      #\n",
      "###############################################################################\n",
      "#  Open-source codes and reusable scientific data are essential for research, #\n",
      "# MCX proudly developed human-readable JSON-based data formats for easy reuse,#\n",
      "#  Please consider using JSON (https://neurojson.org/) for your research data #\n",
      "###############################################################################\n",
      "$Rev::08361e$ v2023  $Date::2023-10-30 22:56:38 -04$ by $Author::Qianqian Fang$\n",
      "###############################################################################\n",
      "- code name: [Fermi MCX] compiled by nvcc [9.2] for CUDA-arch [350] on [Oct 31 2023]\n",
      "- compiled with: RNG [xorshift128+] with Seed Length [4]\n",
      "\n",
      "GPU=1 (Tesla V100-SXM2-16GB) threadph=1220 extra=115200 np=200000000 nthread=163840 maxgate=25 repetition=1\n",
      "initializing streams ...\tinit complete : 0 ms\n",
      "requesting 2560 bytes of shared memory\n",
      "launching MCX simulation for time window [0.00e+00ns 5.00e+00ns] ...\n",
      "simulation run# 1 ... \n",
      "kernel complete:  \t4024 ms\n",
      "retrieving fields ... \tdetected 285168 photons, total: 285168\ttransfer complete:\t4080 ms\n",
      "normalizing raw data ...\tsource 1, normalization factor alpha=25.000000\n",
      "data normalization complete : 4115 ms\n",
      "simulated 200000000 photons (200000000) with 163840 threads (repeat x1)\n",
      "MCX simulation speed: 50200.80 photon/ms\n",
      "total simulated energy: 200000000.00\tabsorbed: 27.32009%\n",
      "(loss due to initial specular reflection is excluded in the total)\n"
     ]
    }
   ],
   "source": [
    "# Step 1 - Baseline simulation\n",
    "# I'm putting #check to confirm same as mlab https://github.com/fangq/mcx/blob/24c35332ade90438fa884d8a8585bf0b2181b6d3/mcxlab/examples/demo_replay_vs_pmc_timedomain.m\n",
    "cfg = {\n",
    "    'nphoton': 2e8, \n",
    "    'vol': np.ones([60, 60, 30], dtype='uint8'), \n",
    "    'srcpos': [30, 30, 0], \n",
    "    'srcdir': [0, 0, 1], \n",
    "    'gpuid': 1, \n",
    "    'autopilot': 1, \n",
    "    'issrcfrom0': 1, # set this flag to ensure src/det coordinates align with voxel space\n",
    "    'prop': [[0, 0, 1, 1], [0.005, 1, 0, 1.37], [0.01, 1, 0, 1.37]], #check\n",
    "    'tstart': 0, \n",
    "    'tend': 5e-9, \n",
    "    'tstep': 2e-10, \n",
    "    'detpos': [15, 30, 0, 2], \n",
    "    'issaveseed': 1,   ##!important!# set this flag to store detected photon seed data\n",
    "    'issavedet':1    # cfg.issavedet must be set to 1 or True in order to save detected photons\n",
    "}\n",
    "\n",
    "cfg[\"vol\"][:,:,14:]=2 # cfg.vol(:,:,15:end)=2;\n",
    "\n",
    "\n",
    "res = pmcx.mcxlab(cfg) # flux, detp, vol, seeds"
   ]
  },
  {
   "cell_type": "code",
   "execution_count": 22,
   "metadata": {},
   "outputs": [
    {
     "name": "stdout",
     "output_type": "stream",
     "text": [
      "nphoton: 2e+08\n",
      "tstart: 0\n",
      "tstep: 2e-10\n",
      "tend: 5e-09\n",
      "issrcfrom0: 1\n",
      "autopilot: 1\n",
      "srcpos: [30, 30, 0, 1]\n",
      "srcdir: [0, 0, 1, 0]\n",
      "issavedet: 1\n",
      "issaveseed: 1\n",
      "###############################################################################\n",
      "#                      Monte Carlo eXtreme (MCX) -- CUDA                      #\n",
      "#          Copyright (c) 2009-2023 Qianqian Fang <q.fang at neu.edu>          #\n",
      "#                https://mcx.space/  &  https://neurojson.org/                #\n",
      "#                                                                             #\n",
      "# Computational Optics & Translational Imaging (COTI) Lab- http://fanglab.org #\n",
      "#   Department of Bioengineering, Northeastern University, Boston, MA, USA    #\n",
      "###############################################################################\n",
      "#    The MCX Project is funded by the NIH/NIGMS under grant R01-GM114365      #\n",
      "###############################################################################\n",
      "#  Open-source codes and reusable scientific data are essential for research, #\n",
      "# MCX proudly developed human-readable JSON-based data formats for easy reuse,#\n",
      "#  Please consider using JSON (https://neurojson.org/) for your research data #\n",
      "###############################################################################\n",
      "$Rev::08361e$ v2023  $Date::2023-10-30 22:56:38 -04$ by $Author::Qianqian Fang$\n",
      "###############################################################################\n",
      "- code name: [Fermi MCX] compiled by nvcc [9.2] for CUDA-arch [350] on [Oct 31 2023]\n",
      "- compiled with: RNG [xorshift128+] with Seed Length [4]\n",
      "\n",
      "GPU=1 (Tesla V100-SXM2-16GB) threadph=1 extra=121322 np=285162 nthread=163840 maxgate=25 repetition=1\n",
      "initializing streams ...\tinit complete : 0 ms\n",
      "requesting 2560 bytes of shared memory\n",
      "launching MCX simulation for time window [0.00e+00ns 5.00e+00ns] ...\n",
      "simulation run# 1 ... \n",
      "kernel complete:  \t21 ms\n",
      "retrieving fields ... \tdetected 285162 photons, total: 285162\ttransfer complete:\t69 ms\n",
      "normalizing raw data ...\tnormalization factor for detector 0 alpha=0.000008\n",
      "source 1, normalization factor alpha=0.000008\n",
      "data normalization complete : 102 ms\n",
      "simulated 285162 photons (285162) with 163840 threads (repeat x1)\n",
      "MCX simulation speed: 15008.53 photon/ms\n",
      "total simulated energy: 285162.00\tabsorbed: 53.69407%\n",
      "(loss due to initial specular reflection is excluded in the total)\n"
     ]
    }
   ],
   "source": [
    "# Step 2 - Replay to get time-domain J_mua\n",
    "cfg_replay = cfg.copy()\n",
    "cfg_replay['seed'] = res['seeds']\n",
    "cfg_replay['outputtype'] = 'jacobian'\n",
    "cfg_replay['detphotons'] = res['detp']['data']\n",
    "\n",
    "res2 = pmcx.mcxlab(cfg_replay)"
   ]
  },
  {
   "cell_type": "code",
   "execution_count": 23,
   "metadata": {},
   "outputs": [],
   "source": [
    "from utils import detweight, dettime"
   ]
  },
  {
   "cell_type": "code",
   "execution_count": 27,
   "metadata": {},
   "outputs": [
    {
     "data": {
      "text/plain": [
       "{'detid': array([1, 1, 1, ..., 1, 1, 1]),\n",
       " 'ppath': array([[ 34.85347 ,   0.      ],\n",
       "        [ 35.359806,   0.      ],\n",
       "        [ 40.56455 ,   0.      ],\n",
       "        ...,\n",
       "        [237.25783 ,   0.      ],\n",
       "        [106.54476 ,   0.      ],\n",
       "        [101.7324  ,   0.      ]], dtype=float32),\n",
       " 'prop': array([[0.    , 0.    , 1.    , 1.    ],\n",
       "        [0.005 , 1.    , 0.    , 1.37  ],\n",
       "        [0.0101, 1.    , 0.    , 1.37  ]]),\n",
       " 'data': array([[  1.      ,   1.      ,   1.      , ...,   1.      ,   1.      ,\n",
       "           1.      ],\n",
       "        [ 34.85347 ,  35.359806,  40.56455 , ..., 237.25783 , 106.54476 ,\n",
       "         101.7324  ],\n",
       "        [  0.      ,   0.      ,   0.      , ...,   0.      ,   0.      ,\n",
       "           0.      ]], dtype=float32)}"
      ]
     },
     "execution_count": 27,
     "metadata": {},
     "output_type": "execute_result"
    }
   ],
   "source": [
    "res['detp']"
   ]
  },
  {
   "cell_type": "code",
   "execution_count": 24,
   "metadata": {},
   "outputs": [],
   "source": [
    "\n",
    "jac = res2['flux']\n",
    "\n",
    "# Step 3 - Predict time-domain measurement change using pMC and partial-path\n",
    "dmua = 0.0001\n",
    "w1 = detweight(res['detp'], cfg['prop'])\n",
    "dprop = cfg['prop']\n",
    "dprop[2][0] += dmua\n",
    "w2 = detweight(res['detp'], dprop)\n",
    "dw = w2 - w1\n",
    "tof = dettime(res['detp'], cfg['prop'])\n",
    "\n",
    "# Using np.digitize to create idx that matches the size of dw\n",
    "time_bins = np.arange(0, cfg['tend'] + cfg['tstep'], cfg['tstep'])\n",
    "idx = np.digitize(tof, bins=time_bins) - 1  # subtract 1 to align with Python's 0-based indexing\n",
    "\n",
    "# Predict time-domain measurement change using TD Jacobian and compare\n",
    "dphi = np.zeros(jac.shape[3])\n",
    "dphi2 = np.zeros(jac.shape[3])\n",
    "\n",
    "for i in range(jac.shape[3]):\n",
    "    dmeas = jac[:, :, 14:, i] * dmua\n",
    "    dphi[i] = -np.sum(dmeas)\n",
    "    dphi2[i] = np.sum(dw[idx == i]) / np.sum(w1)"
   ]
  },
  {
   "cell_type": "code",
   "execution_count": 25,
   "metadata": {},
   "outputs": [
    {
     "data": {
      "image/png": "[encoded data removed]",
      "text/plain": [
       "<Figure size 640x480 with 1 Axes>"
      ]
     },
     "metadata": {},
     "output_type": "display_data"
    }
   ],
   "source": [
    "# Plotting results\n",
    "import matplotlib.pyplot as plt\n",
    "plt.plot(range(1, jac.shape[3] + 1), dphi, 'r-+', range(1, jac.shape[3] + 1), dphi2, 'g-+')\n",
    "plt.legend(['Use replay Jacobian', 'Use pMC'])\n",
    "plt.xlabel('Time gates')\n",
    "plt.ylabel('Measurement change')\n",
    "plt.show()"
   ]
  }
 ],
 "metadata": {
  "kernelspec": {
   "display_name": "tomography-experiments-nAi89yU4",
   "language": "python",
   "name": "python3"
  },
  "language_info": {
   "codemirror_mode": {
    "name": "ipython",
    "version": 3
   },
   "file_extension": ".py",
   "mimetype": "text/x-python",
   "name": "python",
   "nbconvert_exporter": "python",
   "pygments_lexer": "ipython3",
   "version": "3.10.12"
  }
 },
 "nbformat": 4,
 "nbformat_minor": 2
}
